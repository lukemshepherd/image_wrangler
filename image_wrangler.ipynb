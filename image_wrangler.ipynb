{
 "cells": [
  {
   "cell_type": "code",
   "execution_count": 4,
   "metadata": {},
   "outputs": [],
   "source": [
    "import re\n",
    "import os\n",
    "from pathlib import Path"
   ]
  },
  {
   "cell_type": "code",
   "execution_count": 13,
   "metadata": {},
   "outputs": [],
   "source": [
    "def delete_pattern(target_dir, pattern):\n",
    "\n",
    "    os.chdir(target_dir)\n",
    "    files = os.listdir(target_dir)\n",
    "\n",
    "    match = re.compile(r'.{0,}blade-15.{0,}')\n",
    "    \n",
    "    for i in files:\n",
    "        if re.match(match,str(i)) != None:\n",
    "            print(f'{i} removed')\n",
    "            os.remove(i)\n"
   ]
  },
  {
   "cell_type": "code",
   "execution_count": 5,
   "metadata": {},
   "outputs": [],
   "source": [
    "pattern = r'.{0,}blade-15.{0,}'"
   ]
  },
  {
   "cell_type": "code",
   "execution_count": 12,
   "metadata": {},
   "outputs": [],
   "source": [
    "target_dir = Path('/home/luke/OneDrive/Reserach/Bano/data/valid/')"
   ]
  },
  {
   "cell_type": "code",
   "execution_count": 14,
   "metadata": {},
   "outputs": [
    {
     "name": "stdout",
     "output_type": "stream",
     "text": [
      "anon005_03066-blade-15.png removed\n",
      "anon005_02606-blade-15.png removed\n",
      "anon005_01719-blade-15.png removed\n",
      "anon005_08251-blade-15.png removed\n",
      "anon005_01790-blade-15.png removed\n",
      "anon005_03161-blade-15.png removed\n",
      "anon005_11398-blade-15.png removed\n",
      "anon005_08614-blade-15.png removed\n",
      "anon005_02677-blade-15.png removed\n",
      "anon005_01782-blade-15.png removed\n",
      "anon005_19566-blade-15.png removed\n",
      "anon005_11531-blade-15.png removed\n",
      "anon005_00893-blade-15.png removed\n",
      "anon005_10848-blade-15.png removed\n",
      "anon005_00328-blade-15.png removed\n",
      "anon005_07777-blade-15.png removed\n",
      "anon005_01730-blade-15.png removed\n",
      "anon005_02490-blade-15.png removed\n",
      "anon005_03176-blade-15.png removed\n",
      "anon005_11539-blade-15.png removed\n",
      "anon005_02591-blade-15.png removed\n",
      "anon005_03184-blade-15.png removed\n",
      "anon005_03153-blade-15.png removed\n",
      "anon005_03299-blade-15.png removed\n",
      "anon005_02964-blade-15.png removed\n",
      "anon005_02888-blade-15.png removed\n",
      "anon005_08434-blade-15.png removed\n",
      "anon005_05716-blade-15.png removed\n",
      "anon005_19758-blade-15.png removed\n",
      "anon005_20790-blade-15.png removed\n",
      "anon005_03022-blade-15.png removed\n",
      "anon005_02679-blade-15.png removed\n",
      "anon005_05162-blade-15.png removed\n",
      "anon005_07775-blade-15.png removed\n",
      "anon005_00335-blade-15.png removed\n",
      "anon005_01654-blade-15.png removed\n",
      "anon005_02812-blade-15.png removed\n",
      "anon005_11760-blade-15.png removed\n",
      "anon005_00320-blade-15.png removed\n",
      "anon005_00375-blade-15.png removed\n",
      "anon005_05270-blade-15.png removed\n",
      "anon005_00777-blade-15.png removed\n",
      "anon005_02946-blade-15.png removed\n",
      "anon005_11585-blade-15.png removed\n",
      "anon005_02926-blade-15.png removed\n",
      "anon005_05303-blade-15.png removed\n",
      "anon005_17176-blade-15.png removed\n",
      "anon005_16739-blade-15.png removed\n",
      "anon005_05446-blade-15.png removed\n",
      "anon005_02869-blade-15.png removed\n",
      "anon005_03048-blade-15.png removed\n",
      "anon005_01693-blade-15.png removed\n",
      "anon005_11541-blade-15.png removed\n",
      "anon005_00790-blade-15.png removed\n",
      "anon005_01758-blade-15.png removed\n",
      "anon005_03064-blade-15.png removed\n",
      "anon005_06894-blade-15.png removed\n",
      "anon005_05507-blade-15.png removed\n",
      "anon005_01203-blade-15.png removed\n",
      "anon005_01640-blade-15.png removed\n",
      "anon005_00816-blade-15.png removed\n",
      "anon005_01800-blade-15.png removed\n",
      "anon005_05707-blade-15.png removed\n",
      "anon005_03027-blade-15.png removed\n",
      "anon005_02814-blade-15.png removed\n",
      "anon005_00394-blade-15.png removed\n",
      "anon005_08244-blade-15.png removed\n",
      "anon005_00370-blade-15.png removed\n",
      "anon005_03087-blade-15.png removed\n"
     ]
    }
   ],
   "source": [
    "delete_pattern(target_dir, pattern)"
   ]
  },
  {
   "cell_type": "code",
   "execution_count": null,
   "metadata": {},
   "outputs": [],
   "source": []
  },
  {
   "cell_type": "code",
   "execution_count": 10,
   "metadata": {},
   "outputs": [],
   "source": [
    "def no_occ(csv, sample = 25, name = 'anonXXX'):\n",
    "    \"\"\" Fuction that removes the occuled frames (in csv) and \n",
    "    subsets the remaining imges by a user defined factor\"\"\"\n",
    "    home = str(Path.home())   \n",
    "    #reads no ocultion csv\n",
    "    df= pd.read_csv(csv)\n",
    "    df_no_occlusion = df[df['class'] == 'no_occlusion']\n",
    "\n",
    "    #converts data_frame to list\n",
    "    files = df_no_occlusion['filename'].to_list()\n",
    "\n",
    "    #randomly down samples the no_occlusion list by factor (defult 25)\n",
    "    sampled_files = random.sample(files, round(len(files)/sample))\n",
    "\n",
    "    os.makedirs(f'no_occlusion_{name}_sampled', exist_ok = True)\n",
    "\n",
    "    dest = f'{home}/no_occlusion_{name}_sampled'\n",
    "\n",
    "    for img in sampled_files:\n",
    "            shutil.copy(f'{home}/{img}', dest)\n",
    "\n",
    "    print(f'''Non occluded subset complete!!\\n\n",
    "    Downsample rate: {sample}\\n\n",
    "    Output dir: {dest}''')\n"
   ]
  },
  {
   "cell_type": "code",
   "execution_count": 11,
   "metadata": {},
   "outputs": [],
   "source": [
    "def mask_floor(target_dir):\n",
    "    \"\"\" re-sets your mask to 0, 1 vaules\"\"\"\n",
    "    target_dir = Path(target_dir)\n",
    "    os.chdir(target_dir)\n",
    "    \n",
    "    all_files = os.listdir(target_dir)\n",
    "    if '.DS_Store' in all_files:\n",
    "        all_files.remove('.DS_Store')\n",
    "\n",
    "    #os.makedirs('mask_floor',exist_ok= True)\n",
    "    \n",
    "    for img_file in all_files:\n",
    "        # open image \n",
    "        im = imageio.imread(img_file)\n",
    "        #set_trace()\n",
    "        arr = np.where(im > 0, 1, 0)\n",
    "        arr = arr.astype('uint8')\n",
    "        print(f'{img_file} floored')\n",
    "        \n",
    "        imageio.imwrite(target_dir/img_file, arr)"
   ]
  },
  {
   "cell_type": "code",
   "execution_count": null,
   "metadata": {},
   "outputs": [],
   "source": []
  }
 ],
 "metadata": {
  "kernelspec": {
   "display_name": "Python [conda env:fastai]",
   "language": "python",
   "name": "conda-env-fastai-py"
  },
  "language_info": {
   "codemirror_mode": {
    "name": "ipython",
    "version": 3
   },
   "file_extension": ".py",
   "mimetype": "text/x-python",
   "name": "python",
   "nbconvert_exporter": "python",
   "pygments_lexer": "ipython3",
   "version": "3.6.10"
  }
 },
 "nbformat": 4,
 "nbformat_minor": 4
}
